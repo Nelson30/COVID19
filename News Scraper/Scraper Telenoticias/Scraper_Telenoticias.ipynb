{
  "nbformat": 4,
  "nbformat_minor": 0,
  "metadata": {
    "colab": {
      "name": "Scraper_Telenoticias.ipynb",
      "provenance": []
    },
    "kernelspec": {
      "name": "python3",
      "display_name": "Python 3"
    }
  },
  "cells": [
    {
      "cell_type": "markdown",
      "metadata": {
        "id": "JhObP_j0WRbb",
        "colab_type": "text"
      },
      "source": [
        "### Importación de librerías"
      ]
    },
    {
      "cell_type": "code",
      "metadata": {
        "id": "rgk6eJlnwR3Y",
        "colab_type": "code",
        "colab": {}
      },
      "source": [
        "from bs4 import BeautifulSoup\n",
        "import requests "
      ],
      "execution_count": 0,
      "outputs": []
    },
    {
      "cell_type": "markdown",
      "metadata": {
        "id": "YWSbF27TWZVN",
        "colab_type": "text"
      },
      "source": [
        "### Medio que vamos a scrapear"
      ]
    },
    {
      "cell_type": "code",
      "metadata": {
        "id": "lbKbgFiWwcVT",
        "colab_type": "code",
        "outputId": "fa51a4ca-8c47-4e96-f729-4db9daefd0f6",
        "colab": {
          "base_uri": "https://localhost:8080/",
          "height": 34
        }
      },
      "source": [
        "url = 'https://www.teletica.com/noticias/coronavirus'\n",
        "telenoticias = requests.get(url)\n",
        "telenoticias.status_code"
      ],
      "execution_count": 209,
      "outputs": [
        {
          "output_type": "execute_result",
          "data": {
            "text/plain": [
              "200"
            ]
          },
          "metadata": {
            "tags": []
          },
          "execution_count": 209
        }
      ]
    },
    {
      "cell_type": "code",
      "metadata": {
        "id": "3k3cb6b0x1Tm",
        "colab_type": "code",
        "outputId": "9f7daffc-de86-4b82-bfa3-da603c952882",
        "colab": {
          "base_uri": "https://localhost:8080/",
          "height": 34
        }
      },
      "source": [
        "telenoticias.request.headers"
      ],
      "execution_count": 307,
      "outputs": [
        {
          "output_type": "execute_result",
          "data": {
            "text/plain": [
              "{'User-Agent': 'python-requests/2.21.0', 'Accept-Encoding': 'gzip, deflate', 'Accept': '*/*', 'Connection': 'keep-alive'}"
            ]
          },
          "metadata": {
            "tags": []
          },
          "execution_count": 307
        }
      ]
    },
    {
      "cell_type": "markdown",
      "metadata": {
        "id": "zFwsvWWAXzrU",
        "colab_type": "text"
      },
      "source": [
        "### Parseamos la dirección y declaramos el soup"
      ]
    },
    {
      "cell_type": "code",
      "metadata": {
        "id": "YDFwBowYx4dK",
        "colab_type": "code",
        "colab": {}
      },
      "source": [
        "soup = BeautifulSoup(telenoticias.text, 'lxml')"
      ],
      "execution_count": 0,
      "outputs": []
    },
    {
      "cell_type": "markdown",
      "metadata": {
        "id": "pVPORKQyYCV0",
        "colab_type": "text"
      },
      "source": [
        "### Noticia principal"
      ]
    },
    {
      "cell_type": "code",
      "metadata": {
        "id": "CRwmh4fAJ21l",
        "colab_type": "code",
        "colab": {
          "base_uri": "https://localhost:8080/",
          "height": 34
        },
        "outputId": "cd1695cd-6067-44dc-9235-7d7f5d4ef440"
      },
      "source": [
        "coronavirus = soup.find('div', attrs={'class':'area area-temp-20'})\n",
        "cabeza1 = coronavirus.find('a', attrs = {'class':'nota-link'})            \n",
        "cabeza1.text"
      ],
      "execution_count": 212,
      "outputs": [
        {
          "output_type": "execute_result",
          "data": {
            "text/plain": [
              "'Estudio de Google muestra los cambios en la movilidad en Costa Rica debido al COVID-19'"
            ]
          },
          "metadata": {
            "tags": []
          },
          "execution_count": 212
        }
      ]
    },
    {
      "cell_type": "markdown",
      "metadata": {
        "id": "XGPynoHRYHbd",
        "colab_type": "text"
      },
      "source": [
        "### Sección media de noticias (3 noticias)"
      ]
    },
    {
      "cell_type": "code",
      "metadata": {
        "id": "2fvPPjB5_g_O",
        "colab_type": "code",
        "colab": {}
      },
      "source": [
        "noticia_abajo = soup.find('div', attrs={'class':'area area-temp-30'})\n",
        "noticias_abajo = noticia_abajo('a', attrs={'class':'nota-link'})\n",
        "\n",
        "noticias_abajo_1 = noticias_abajo[0]\n",
        "noticias_abajo_2 = noticias_abajo[1]\n",
        "noticias_abajo_3 = noticias_abajo[2]"
      ],
      "execution_count": 0,
      "outputs": []
    },
    {
      "cell_type": "code",
      "metadata": {
        "id": "xn_qvvXW3Pmz",
        "colab_type": "code",
        "colab": {
          "base_uri": "https://localhost:8080/",
          "height": 54
        },
        "outputId": "87ef7f6b-c151-4b9b-e25d-c71470838f4d"
      },
      "source": [
        "print(noticias_abajo_1, noticias_abajo_2, noticias_abajo_3)"
      ],
      "execution_count": 298,
      "outputs": [
        {
          "output_type": "stream",
          "text": [
            "<a class=\"nota-link\" href=\"/254617_vea-cuales-comercios-pueden-abrir-a-partir-de-este-lunes-y-cuales-deben-continuar-cerrados\">Vea cuáles comercios pueden abrir a partir de este lunes y cuáles deben continuar cerrados</a> <a class=\"nota-link\" href=\"/254616_vecinos-del-centro-de-alajuela-extranaron-desfiles-del-11-de-abril\">Vecinos del centro de Alajuela extrañaron desfiles del 11 de abril</a> <a class=\"nota-link\" href=\"/254615_dr-marco-vinicio-boza-el-paciente-tico-con-covid-19-es-atipico\">Dr. Marco Vinicio Boza: El paciente tico con Covid-19 es “atípico”</a>\n"
          ],
          "name": "stdout"
        }
      ]
    },
    {
      "cell_type": "markdown",
      "metadata": {
        "id": "XHq1KrnXYYqP",
        "colab_type": "text"
      },
      "source": [
        "### Sección de noticias extras (titulos)  | Noticias extras"
      ]
    },
    {
      "cell_type": "code",
      "metadata": {
        "id": "znkmGkAhGhEX",
        "colab_type": "code",
        "colab": {
          "base_uri": "https://localhost:8080/",
          "height": 153
        },
        "outputId": "c1b1f2f3-fd4d-4c74-ce60-da8cafef7c36"
      },
      "source": [
        "noticias_extra = soup.find('div', attrs = {'class': 'sector sector-list-news'})\n",
        "noticias_extra1 = noticias_extra.find('div', attrs = {'class':'holder'}).find_all('h2')\n",
        "noticias_extra1"
      ],
      "execution_count": 355,
      "outputs": [
        {
          "output_type": "execute_result",
          "data": {
            "text/plain": [
              "[<h2>Papa Francisco pidió contagiarse de esperanza en su mensaje del Domingo de Resurrección</h2>,\n",
              " <h2>Rodrigo Marín: “Apenas estamos iniciando el segundo tiempo, no es momento de bajar la guardia”</h2>,\n",
              " <h2>La Real Sociedad renuncia a reabrir el martes su centro de entrenamiento</h2>,\n",
              " <h2>Boris Jonhson sale del hospital en Reino Unido, donde hay casi 11.000 muertos por coronavirus</h2>,\n",
              " <h2>Prueba COVID-19 realizada a extranjera menor de edad que ingresó en condición irregular al país dio negativa</h2>,\n",
              " <h2>Salud señala que nuevo coronavirus se mantiene con vida en la piel hasta por tres horas</h2>,\n",
              " <h2>Semana Santa cierra con 595 casos confirmados por COVID-19 en Costa Rica</h2>,\n",
              " <h2>Un año después de su regreso glorioso ¿se interpone el coronavirus a Tiger Woods?</h2>]"
            ]
          },
          "metadata": {
            "tags": []
          },
          "execution_count": 355
        }
      ]
    },
    {
      "cell_type": "markdown",
      "metadata": {
        "id": "_rs_SaeTbULl",
        "colab_type": "text"
      },
      "source": [
        "### Links de las noticias extras | Noticias extras"
      ]
    },
    {
      "cell_type": "code",
      "metadata": {
        "id": "lQGP06sVbShA",
        "colab_type": "code",
        "colab": {
          "base_uri": "https://localhost:8080/",
          "height": 153
        },
        "outputId": "3faaabba-1cae-491a-a90e-28c7d2738767"
      },
      "source": [
        "noticias_extra = soup.find('div', attrs = {'class': 'sector sector-list-news'})\n",
        "noticias_extra1 = noticias_extra.find('div', attrs = {'class':'holder'}).find_all('a')\n",
        "\n",
        "noticia_extra_1 = noticias_extra1[0].get('href')\n",
        "noticia_extra_2 = noticias_extra1[1].get('href')\n",
        "noticia_extra_3 = noticias_extra1[2].get('href')\n",
        "noticia_extra_4 = noticias_extra1[3].get('href')\n",
        "noticia_extra_5 = noticias_extra1[4].get('href')\n",
        "noticia_extra_6 = noticias_extra1[5].get('href')\n",
        "noticia_extra_7 = noticias_extra1[6].get('href')\n",
        "noticia_extra_8 = noticias_extra1[7].get('href')\n",
        "\n",
        "\n",
        "print(noticia_extra_1)\n",
        "print(noticia_extra_2)\n",
        "print(noticia_extra_3)\n",
        "print(noticia_extra_4)\n",
        "print(noticia_extra_5)\n",
        "print(noticia_extra_6)\n",
        "print(noticia_extra_7)\n",
        "print(noticia_extra_8)"
      ],
      "execution_count": 361,
      "outputs": [
        {
          "output_type": "stream",
          "text": [
            "/254613_papa-francisco-pidio-contagiarse-de-esperanza-en-su-mensaje-del-domingo-de-resurreccion\n",
            "/254612_rodrigo-marin-apenas-estamos-iniciando-el-segundo-tiempo-no-es-momento-de-bajar-la-guardia\n",
            "/254611_la-real-sociedad-renuncia-a-reabrir-el-martes-su-centro-de-entrenamiento\n",
            "/254610_boris-jonhson-sale-del-hospital-en-reino-unido-donde-hay-casi-11000-muertos-por-coronavirus\n",
            "/254609_prueba-covid-19-realizada-a-extranjera-menor-de-edad-que-ingreso-en-condicion-irregular-al-pais-dio-\n",
            "/254608_salud-senala-que-nuevo-coronavirus-se-mantiene-con-vida-en-la-piel-hasta-por-tres-horas\n",
            "/254607_semana-santa-cierra-con-595-casos-confirmados-por-covid-19-en-costa-rica\n",
            "/254606_un-ano-despues-de-su-regreso-glorioso-se-interpone-el-coronavirus-a-tiger-woods\n"
          ],
          "name": "stdout"
        }
      ]
    }
  ]
}